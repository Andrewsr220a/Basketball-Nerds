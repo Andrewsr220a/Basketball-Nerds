{
 "cells": [
  {
   "cell_type": "code",
   "execution_count": 1,
   "id": "fa9174da",
   "metadata": {},
   "outputs": [],
   "source": [
    "import requests\n",
    "import pandas as pd \n",
    "import json\n",
    "import numpy as py \n",
    "from flask import Flask, render_template, redirect\n",
    "from splinter import Browser\n",
    "from bs4 import BeautifulSoup as bs\n",
    "from flask_pymongo import PyMongo\n",
    "from webdriver_manager.chrome import ChromeDriverManager"
   ]
  },
  {
   "cell_type": "code",
   "execution_count": 2,
   "id": "f14dc1af",
   "metadata": {},
   "outputs": [],
   "source": [
    "url_query = \"https://www.balldontlie.io/api/v1/players\"\n",
    "player_api = requests.get(url_query).json()"
   ]
  },
  {
   "cell_type": "code",
   "execution_count": 4,
   "id": "688f708b",
   "metadata": {},
   "outputs": [],
   "source": [
    "url_query2 = \"https://www.balldontlie.io/api/v1/teams\"\n",
    "teams_api = requests.get(url_query2).json()"
   ]
  },
  {
   "cell_type": "code",
   "execution_count": 5,
   "id": "48c9ef35",
   "metadata": {},
   "outputs": [],
   "source": [
    "url_query3 = \"https://www.balldontlie.io/api/v1/games\"\n",
    "games_api = requests.get(url_query3).json()"
   ]
  },
  {
   "cell_type": "code",
   "execution_count": 6,
   "id": "1226d24c",
   "metadata": {},
   "outputs": [],
   "source": [
    "url_query4 = \"https://www.balldontlie.io/api/v1/stats\"\n",
    "stats_api = requests.get(url_query4).json()"
   ]
  },
  {
   "cell_type": "code",
   "execution_count": 7,
   "id": "dd8b6933",
   "metadata": {},
   "outputs": [],
   "source": [
    "url_query5 = \"https://www.balldontlie.io/api/v1/season_averages\"\n",
    "season_avg_api = requests.get(url_query5).json()"
   ]
  },
  {
   "cell_type": "code",
   "execution_count": null,
   "id": "80fde013",
   "metadata": {},
   "outputs": [],
   "source": []
  }
 ],
 "metadata": {
  "kernelspec": {
   "display_name": "Python 3 (ipykernel)",
   "language": "python",
   "name": "python3"
  },
  "language_info": {
   "codemirror_mode": {
    "name": "ipython",
    "version": 3
   },
   "file_extension": ".py",
   "mimetype": "text/x-python",
   "name": "python",
   "nbconvert_exporter": "python",
   "pygments_lexer": "ipython3",
   "version": "3.8.8"
  }
 },
 "nbformat": 4,
 "nbformat_minor": 5
}
